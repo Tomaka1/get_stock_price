{
 "cells": [
  {
   "cell_type": "markdown",
   "metadata": {},
   "source": [
    "#### get the price of Nikkei225\n",
    "- get the price of Nikkei225 from yahoo finance (JP) by web scraping"
   ]
  },
  {
   "cell_type": "code",
   "execution_count": 1,
   "metadata": {},
   "outputs": [
    {
     "name": "stdout",
     "output_type": "stream",
     "text": [
      "Windows-10-10.0.18362-SP0\n",
      "3.7.6 (default, Jan  8 2020, 20:23:39) [MSC v.1916 64 bit (AMD64)]\n"
     ]
    }
   ],
   "source": [
    "# execution environment\n",
    "import platform\n",
    "import sys\n",
    "print(platform.platform())\n",
    "print(sys.version)"
   ]
  },
  {
   "cell_type": "code",
   "execution_count": 2,
   "metadata": {},
   "outputs": [],
   "source": [
    "import urllib.request as request\n",
    "from bs4 import BeautifulSoup"
   ]
  },
  {
   "cell_type": "code",
   "execution_count": 3,
   "metadata": {},
   "outputs": [],
   "source": [
    "def get_stock_price(url):\n",
    "    response = request.urlopen(url)\n",
    "    bs = BeautifulSoup(response, 'html.parser')\n",
    "    stoksPrice = bs.select('.stoksPrice')[1].text\n",
    "    return stoksPrice"
   ]
  },
  {
   "cell_type": "code",
   "execution_count": 4,
   "metadata": {},
   "outputs": [
    {
     "name": "stdout",
     "output_type": "stream",
     "text": [
      "the price of Nikkei225 is \\26,644.71\n"
     ]
    }
   ],
   "source": [
    "url = 'https://stocks.finance.yahoo.co.jp/stocks/detail/?code=998407.O'\n",
    "result = get_stock_price(url)\n",
    "print(f'the price of Nikkei225 is \\\\{result}')"
   ]
  }
 ],
 "metadata": {
  "kernelspec": {
   "display_name": "PY37_TF114",
   "language": "python",
   "name": "py37_tf114"
  },
  "language_info": {
   "codemirror_mode": {
    "name": "ipython",
    "version": 3
   },
   "file_extension": ".py",
   "mimetype": "text/x-python",
   "name": "python",
   "nbconvert_exporter": "python",
   "pygments_lexer": "ipython3",
   "version": "3.7.6"
  }
 },
 "nbformat": 4,
 "nbformat_minor": 2
}
